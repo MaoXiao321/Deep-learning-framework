{
 "cells": [
  {
   "cell_type": "markdown",
   "id": "fa0b3402",
   "metadata": {},
   "source": [
    "## TensorFlow 2.0_基于LSTM实现多变量预测_共享单车使用量预测\n",
    "### 案例实现流程：\n",
    "\n",
    "* 1. 加载数据集、数据可视化、预处理\n",
    "* 2. 特征工程\n",
    "* 3. 构建模型\n",
    "* 4. 模型编译、训练、验证"
   ]
  },
  {
   "cell_type": "code",
   "execution_count": 1,
   "id": "50431f04",
   "metadata": {},
   "outputs": [],
   "source": [
    "import pandas as pd\n",
    "import numpy as np\n",
    "import matplotlib.pyplot as plt\n",
    "import seaborn as sns\n",
    "import os\n",
    "import datetime\n",
    "\n",
    "from sklearn.model_selection import train_test_split\n",
    "from sklearn.preprocessing import StandardScaler\n",
    "from sklearn.metrics import r2_score\n",
    "\n",
    "import tensorflow as tf\n",
    "from tensorflow.keras import Sequential, layers, utils, losses\n",
    "from tensorflow.keras.callbacks import ModelCheckpoint, TensorBoard\n",
    "\n",
    "import warnings\n",
    "warnings.filterwarnings('ignore')"
   ]
  },
  {
   "cell_type": "code",
   "execution_count": 2,
   "id": "1999fedb",
   "metadata": {},
   "outputs": [],
   "source": [
    "physical_devices = tf.config.experimental.list_physical_devices('GPU')\n",
    "assert len(physical_devices) > 0, \"Not enough GPU hardware devices available\"\n",
    "tf.config.experimental.set_memory_growth(physical_devices[0], True)"
   ]
  },
  {
   "cell_type": "markdown",
   "id": "34fb98a8",
   "metadata": {},
   "source": [
    "### 第1步：加载数据集、预处理"
   ]
  },
  {
   "cell_type": "code",
   "execution_count": 27,
   "id": "9e443ac1",
   "metadata": {},
   "outputs": [],
   "source": [
    "# 加载数据集\n",
    "\n",
    "dataset = pd.read_csv(\"BikeShares.csv\", parse_dates=['timestamp'], index_col=['timestamp'])"
   ]
  },
  {
   "cell_type": "code",
   "execution_count": 4,
   "id": "6d96b7d5",
   "metadata": {},
   "outputs": [
    {
     "data": {
      "text/plain": [
       "(17414, 9)"
      ]
     },
     "execution_count": 4,
     "metadata": {},
     "output_type": "execute_result"
    }
   ],
   "source": [
    "# 数据集大小\n",
    "\n",
    "dataset.shape"
   ]
  },
  {
   "cell_type": "code",
   "execution_count": 5,
   "id": "0d9ecbaf",
   "metadata": {},
   "outputs": [
    {
     "data": {
      "text/html": [
       "<div>\n",
       "<style scoped>\n",
       "    .dataframe tbody tr th:only-of-type {\n",
       "        vertical-align: middle;\n",
       "    }\n",
       "\n",
       "    .dataframe tbody tr th {\n",
       "        vertical-align: top;\n",
       "    }\n",
       "\n",
       "    .dataframe thead th {\n",
       "        text-align: right;\n",
       "    }\n",
       "</style>\n",
       "<table border=\"1\" class=\"dataframe\">\n",
       "  <thead>\n",
       "    <tr style=\"text-align: right;\">\n",
       "      <th></th>\n",
       "      <th>cnt</th>\n",
       "      <th>t1</th>\n",
       "      <th>t2</th>\n",
       "      <th>hum</th>\n",
       "      <th>wind_speed</th>\n",
       "      <th>weather_code</th>\n",
       "      <th>is_holiday</th>\n",
       "      <th>is_weekend</th>\n",
       "      <th>season</th>\n",
       "    </tr>\n",
       "    <tr>\n",
       "      <th>timestamp</th>\n",
       "      <th></th>\n",
       "      <th></th>\n",
       "      <th></th>\n",
       "      <th></th>\n",
       "      <th></th>\n",
       "      <th></th>\n",
       "      <th></th>\n",
       "      <th></th>\n",
       "      <th></th>\n",
       "    </tr>\n",
       "  </thead>\n",
       "  <tbody>\n",
       "    <tr>\n",
       "      <th>2015-01-04 00:00:00</th>\n",
       "      <td>182</td>\n",
       "      <td>3.0</td>\n",
       "      <td>2.0</td>\n",
       "      <td>93.0</td>\n",
       "      <td>6.0</td>\n",
       "      <td>3.0</td>\n",
       "      <td>0.0</td>\n",
       "      <td>1.0</td>\n",
       "      <td>3.0</td>\n",
       "    </tr>\n",
       "    <tr>\n",
       "      <th>2015-01-04 01:00:00</th>\n",
       "      <td>138</td>\n",
       "      <td>3.0</td>\n",
       "      <td>2.5</td>\n",
       "      <td>93.0</td>\n",
       "      <td>5.0</td>\n",
       "      <td>1.0</td>\n",
       "      <td>0.0</td>\n",
       "      <td>1.0</td>\n",
       "      <td>3.0</td>\n",
       "    </tr>\n",
       "    <tr>\n",
       "      <th>2015-01-04 02:00:00</th>\n",
       "      <td>134</td>\n",
       "      <td>2.5</td>\n",
       "      <td>2.5</td>\n",
       "      <td>96.5</td>\n",
       "      <td>0.0</td>\n",
       "      <td>1.0</td>\n",
       "      <td>0.0</td>\n",
       "      <td>1.0</td>\n",
       "      <td>3.0</td>\n",
       "    </tr>\n",
       "    <tr>\n",
       "      <th>2015-01-04 03:00:00</th>\n",
       "      <td>72</td>\n",
       "      <td>2.0</td>\n",
       "      <td>2.0</td>\n",
       "      <td>100.0</td>\n",
       "      <td>0.0</td>\n",
       "      <td>1.0</td>\n",
       "      <td>0.0</td>\n",
       "      <td>1.0</td>\n",
       "      <td>3.0</td>\n",
       "    </tr>\n",
       "    <tr>\n",
       "      <th>2015-01-04 04:00:00</th>\n",
       "      <td>47</td>\n",
       "      <td>2.0</td>\n",
       "      <td>0.0</td>\n",
       "      <td>93.0</td>\n",
       "      <td>6.5</td>\n",
       "      <td>1.0</td>\n",
       "      <td>0.0</td>\n",
       "      <td>1.0</td>\n",
       "      <td>3.0</td>\n",
       "    </tr>\n",
       "  </tbody>\n",
       "</table>\n",
       "</div>"
      ],
      "text/plain": [
       "                     cnt   t1   t2    hum  wind_speed  weather_code  \\\n",
       "timestamp                                                             \n",
       "2015-01-04 00:00:00  182  3.0  2.0   93.0         6.0           3.0   \n",
       "2015-01-04 01:00:00  138  3.0  2.5   93.0         5.0           1.0   \n",
       "2015-01-04 02:00:00  134  2.5  2.5   96.5         0.0           1.0   \n",
       "2015-01-04 03:00:00   72  2.0  2.0  100.0         0.0           1.0   \n",
       "2015-01-04 04:00:00   47  2.0  0.0   93.0         6.5           1.0   \n",
       "\n",
       "                     is_holiday  is_weekend  season  \n",
       "timestamp                                            \n",
       "2015-01-04 00:00:00         0.0         1.0     3.0  \n",
       "2015-01-04 01:00:00         0.0         1.0     3.0  \n",
       "2015-01-04 02:00:00         0.0         1.0     3.0  \n",
       "2015-01-04 03:00:00         0.0         1.0     3.0  \n",
       "2015-01-04 04:00:00         0.0         1.0     3.0  "
      ]
     },
     "execution_count": 5,
     "metadata": {},
     "output_type": "execute_result"
    }
   ],
   "source": [
    "# 默认显示前5行\n",
    "\n",
    "dataset.head()"
   ]
  },
  {
   "cell_type": "code",
   "execution_count": 6,
   "id": "bd9e756f",
   "metadata": {},
   "outputs": [
    {
     "data": {
      "text/html": [
       "<div>\n",
       "<style scoped>\n",
       "    .dataframe tbody tr th:only-of-type {\n",
       "        vertical-align: middle;\n",
       "    }\n",
       "\n",
       "    .dataframe tbody tr th {\n",
       "        vertical-align: top;\n",
       "    }\n",
       "\n",
       "    .dataframe thead th {\n",
       "        text-align: right;\n",
       "    }\n",
       "</style>\n",
       "<table border=\"1\" class=\"dataframe\">\n",
       "  <thead>\n",
       "    <tr style=\"text-align: right;\">\n",
       "      <th></th>\n",
       "      <th>cnt</th>\n",
       "      <th>t1</th>\n",
       "      <th>t2</th>\n",
       "      <th>hum</th>\n",
       "      <th>wind_speed</th>\n",
       "      <th>weather_code</th>\n",
       "      <th>is_holiday</th>\n",
       "      <th>is_weekend</th>\n",
       "      <th>season</th>\n",
       "    </tr>\n",
       "    <tr>\n",
       "      <th>timestamp</th>\n",
       "      <th></th>\n",
       "      <th></th>\n",
       "      <th></th>\n",
       "      <th></th>\n",
       "      <th></th>\n",
       "      <th></th>\n",
       "      <th></th>\n",
       "      <th></th>\n",
       "      <th></th>\n",
       "    </tr>\n",
       "  </thead>\n",
       "  <tbody>\n",
       "    <tr>\n",
       "      <th>2017-01-03 19:00:00</th>\n",
       "      <td>1042</td>\n",
       "      <td>5.0</td>\n",
       "      <td>1.0</td>\n",
       "      <td>81.0</td>\n",
       "      <td>19.0</td>\n",
       "      <td>3.0</td>\n",
       "      <td>0.0</td>\n",
       "      <td>0.0</td>\n",
       "      <td>3.0</td>\n",
       "    </tr>\n",
       "    <tr>\n",
       "      <th>2017-01-03 20:00:00</th>\n",
       "      <td>541</td>\n",
       "      <td>5.0</td>\n",
       "      <td>1.0</td>\n",
       "      <td>81.0</td>\n",
       "      <td>21.0</td>\n",
       "      <td>4.0</td>\n",
       "      <td>0.0</td>\n",
       "      <td>0.0</td>\n",
       "      <td>3.0</td>\n",
       "    </tr>\n",
       "    <tr>\n",
       "      <th>2017-01-03 21:00:00</th>\n",
       "      <td>337</td>\n",
       "      <td>5.5</td>\n",
       "      <td>1.5</td>\n",
       "      <td>78.5</td>\n",
       "      <td>24.0</td>\n",
       "      <td>4.0</td>\n",
       "      <td>0.0</td>\n",
       "      <td>0.0</td>\n",
       "      <td>3.0</td>\n",
       "    </tr>\n",
       "    <tr>\n",
       "      <th>2017-01-03 22:00:00</th>\n",
       "      <td>224</td>\n",
       "      <td>5.5</td>\n",
       "      <td>1.5</td>\n",
       "      <td>76.0</td>\n",
       "      <td>23.0</td>\n",
       "      <td>4.0</td>\n",
       "      <td>0.0</td>\n",
       "      <td>0.0</td>\n",
       "      <td>3.0</td>\n",
       "    </tr>\n",
       "    <tr>\n",
       "      <th>2017-01-03 23:00:00</th>\n",
       "      <td>139</td>\n",
       "      <td>5.0</td>\n",
       "      <td>1.0</td>\n",
       "      <td>76.0</td>\n",
       "      <td>22.0</td>\n",
       "      <td>2.0</td>\n",
       "      <td>0.0</td>\n",
       "      <td>0.0</td>\n",
       "      <td>3.0</td>\n",
       "    </tr>\n",
       "  </tbody>\n",
       "</table>\n",
       "</div>"
      ],
      "text/plain": [
       "                      cnt   t1   t2   hum  wind_speed  weather_code  \\\n",
       "timestamp                                                             \n",
       "2017-01-03 19:00:00  1042  5.0  1.0  81.0        19.0           3.0   \n",
       "2017-01-03 20:00:00   541  5.0  1.0  81.0        21.0           4.0   \n",
       "2017-01-03 21:00:00   337  5.5  1.5  78.5        24.0           4.0   \n",
       "2017-01-03 22:00:00   224  5.5  1.5  76.0        23.0           4.0   \n",
       "2017-01-03 23:00:00   139  5.0  1.0  76.0        22.0           2.0   \n",
       "\n",
       "                     is_holiday  is_weekend  season  \n",
       "timestamp                                            \n",
       "2017-01-03 19:00:00         0.0         0.0     3.0  \n",
       "2017-01-03 20:00:00         0.0         0.0     3.0  \n",
       "2017-01-03 21:00:00         0.0         0.0     3.0  \n",
       "2017-01-03 22:00:00         0.0         0.0     3.0  \n",
       "2017-01-03 23:00:00         0.0         0.0     3.0  "
      ]
     },
     "execution_count": 6,
     "metadata": {},
     "output_type": "execute_result"
    }
   ],
   "source": [
    "# 默认显示后5行\n",
    "\n",
    "dataset.tail()"
   ]
  },
  {
   "cell_type": "markdown",
   "id": "b5d6fcdc",
   "metadata": {},
   "source": [
    "#### 字段说明：\n",
    "\n",
    "* timestamp : 时间戳\n",
    "* cnt : 租用共享单车的数量（目标值）\n",
    "* t1 : 气温\n",
    "* t2 : 体感温度\n",
    "* hum : 湿度\n",
    "* wind_speed : 风速\n",
    "* weather_code : 天气的类别（1=干净，2 =很少的云，3=碎云，4=多云，7=雨/小雨，10=有雷雨，26=降雪，94=冰雾）\n",
    "* is_holiday : 是否为假期（1:假期 / 0:工作日）\n",
    "* is_weekend : 是否为周末（1:周末 / 0：工作日）\n",
    "* season : 季节（0:春天 ; 1:夏天 ; 2:秋天 ; 3:冬天）"
   ]
  },
  {
   "cell_type": "code",
   "execution_count": 7,
   "id": "6e9dc730",
   "metadata": {},
   "outputs": [
    {
     "name": "stdout",
     "output_type": "stream",
     "text": [
      "<class 'pandas.core.frame.DataFrame'>\n",
      "DatetimeIndex: 17414 entries, 2015-01-04 00:00:00 to 2017-01-03 23:00:00\n",
      "Data columns (total 9 columns):\n",
      " #   Column        Non-Null Count  Dtype  \n",
      "---  ------        --------------  -----  \n",
      " 0   cnt           17414 non-null  int64  \n",
      " 1   t1            17414 non-null  float64\n",
      " 2   t2            17414 non-null  float64\n",
      " 3   hum           17414 non-null  float64\n",
      " 4   wind_speed    17414 non-null  float64\n",
      " 5   weather_code  17414 non-null  float64\n",
      " 6   is_holiday    17414 non-null  float64\n",
      " 7   is_weekend    17414 non-null  float64\n",
      " 8   season        17414 non-null  float64\n",
      "dtypes: float64(8), int64(1)\n",
      "memory usage: 1.3 MB\n"
     ]
    }
   ],
   "source": [
    "# 数据集信息\n",
    "\n",
    "dataset.info()"
   ]
  },
  {
   "cell_type": "code",
   "execution_count": 8,
   "id": "ba185b3f",
   "metadata": {},
   "outputs": [
    {
     "data": {
      "text/html": [
       "<div>\n",
       "<style scoped>\n",
       "    .dataframe tbody tr th:only-of-type {\n",
       "        vertical-align: middle;\n",
       "    }\n",
       "\n",
       "    .dataframe tbody tr th {\n",
       "        vertical-align: top;\n",
       "    }\n",
       "\n",
       "    .dataframe thead th {\n",
       "        text-align: right;\n",
       "    }\n",
       "</style>\n",
       "<table border=\"1\" class=\"dataframe\">\n",
       "  <thead>\n",
       "    <tr style=\"text-align: right;\">\n",
       "      <th></th>\n",
       "      <th>cnt</th>\n",
       "      <th>t1</th>\n",
       "      <th>t2</th>\n",
       "      <th>hum</th>\n",
       "      <th>wind_speed</th>\n",
       "      <th>weather_code</th>\n",
       "      <th>is_holiday</th>\n",
       "      <th>is_weekend</th>\n",
       "      <th>season</th>\n",
       "    </tr>\n",
       "  </thead>\n",
       "  <tbody>\n",
       "    <tr>\n",
       "      <th>count</th>\n",
       "      <td>17414.000000</td>\n",
       "      <td>17414.000000</td>\n",
       "      <td>17414.000000</td>\n",
       "      <td>17414.000000</td>\n",
       "      <td>17414.000000</td>\n",
       "      <td>17414.000000</td>\n",
       "      <td>17414.000000</td>\n",
       "      <td>17414.000000</td>\n",
       "      <td>17414.000000</td>\n",
       "    </tr>\n",
       "    <tr>\n",
       "      <th>mean</th>\n",
       "      <td>1143.101642</td>\n",
       "      <td>12.468091</td>\n",
       "      <td>11.520836</td>\n",
       "      <td>72.324954</td>\n",
       "      <td>15.913063</td>\n",
       "      <td>2.722752</td>\n",
       "      <td>0.022051</td>\n",
       "      <td>0.285403</td>\n",
       "      <td>1.492075</td>\n",
       "    </tr>\n",
       "    <tr>\n",
       "      <th>std</th>\n",
       "      <td>1085.108068</td>\n",
       "      <td>5.571818</td>\n",
       "      <td>6.615145</td>\n",
       "      <td>14.313186</td>\n",
       "      <td>7.894570</td>\n",
       "      <td>2.341163</td>\n",
       "      <td>0.146854</td>\n",
       "      <td>0.451619</td>\n",
       "      <td>1.118911</td>\n",
       "    </tr>\n",
       "    <tr>\n",
       "      <th>min</th>\n",
       "      <td>0.000000</td>\n",
       "      <td>-1.500000</td>\n",
       "      <td>-6.000000</td>\n",
       "      <td>20.500000</td>\n",
       "      <td>0.000000</td>\n",
       "      <td>1.000000</td>\n",
       "      <td>0.000000</td>\n",
       "      <td>0.000000</td>\n",
       "      <td>0.000000</td>\n",
       "    </tr>\n",
       "    <tr>\n",
       "      <th>25%</th>\n",
       "      <td>257.000000</td>\n",
       "      <td>8.000000</td>\n",
       "      <td>6.000000</td>\n",
       "      <td>63.000000</td>\n",
       "      <td>10.000000</td>\n",
       "      <td>1.000000</td>\n",
       "      <td>0.000000</td>\n",
       "      <td>0.000000</td>\n",
       "      <td>0.000000</td>\n",
       "    </tr>\n",
       "    <tr>\n",
       "      <th>50%</th>\n",
       "      <td>844.000000</td>\n",
       "      <td>12.500000</td>\n",
       "      <td>12.500000</td>\n",
       "      <td>74.500000</td>\n",
       "      <td>15.000000</td>\n",
       "      <td>2.000000</td>\n",
       "      <td>0.000000</td>\n",
       "      <td>0.000000</td>\n",
       "      <td>1.000000</td>\n",
       "    </tr>\n",
       "    <tr>\n",
       "      <th>75%</th>\n",
       "      <td>1671.750000</td>\n",
       "      <td>16.000000</td>\n",
       "      <td>16.000000</td>\n",
       "      <td>83.000000</td>\n",
       "      <td>20.500000</td>\n",
       "      <td>3.000000</td>\n",
       "      <td>0.000000</td>\n",
       "      <td>1.000000</td>\n",
       "      <td>2.000000</td>\n",
       "    </tr>\n",
       "    <tr>\n",
       "      <th>max</th>\n",
       "      <td>7860.000000</td>\n",
       "      <td>34.000000</td>\n",
       "      <td>34.000000</td>\n",
       "      <td>100.000000</td>\n",
       "      <td>56.500000</td>\n",
       "      <td>26.000000</td>\n",
       "      <td>1.000000</td>\n",
       "      <td>1.000000</td>\n",
       "      <td>3.000000</td>\n",
       "    </tr>\n",
       "  </tbody>\n",
       "</table>\n",
       "</div>"
      ],
      "text/plain": [
       "                cnt            t1            t2           hum    wind_speed  \\\n",
       "count  17414.000000  17414.000000  17414.000000  17414.000000  17414.000000   \n",
       "mean    1143.101642     12.468091     11.520836     72.324954     15.913063   \n",
       "std     1085.108068      5.571818      6.615145     14.313186      7.894570   \n",
       "min        0.000000     -1.500000     -6.000000     20.500000      0.000000   \n",
       "25%      257.000000      8.000000      6.000000     63.000000     10.000000   \n",
       "50%      844.000000     12.500000     12.500000     74.500000     15.000000   \n",
       "75%     1671.750000     16.000000     16.000000     83.000000     20.500000   \n",
       "max     7860.000000     34.000000     34.000000    100.000000     56.500000   \n",
       "\n",
       "       weather_code    is_holiday    is_weekend        season  \n",
       "count  17414.000000  17414.000000  17414.000000  17414.000000  \n",
       "mean       2.722752      0.022051      0.285403      1.492075  \n",
       "std        2.341163      0.146854      0.451619      1.118911  \n",
       "min        1.000000      0.000000      0.000000      0.000000  \n",
       "25%        1.000000      0.000000      0.000000      0.000000  \n",
       "50%        2.000000      0.000000      0.000000      1.000000  \n",
       "75%        3.000000      0.000000      1.000000      2.000000  \n",
       "max       26.000000      1.000000      1.000000      3.000000  "
      ]
     },
     "execution_count": 8,
     "metadata": {},
     "output_type": "execute_result"
    }
   ],
   "source": [
    "# 数据集描述\n",
    "\n",
    "dataset.describe()"
   ]
  },
  {
   "cell_type": "markdown",
   "id": "26b51d29",
   "metadata": {},
   "source": [
    "### 第2步：数据预处理"
   ]
  },
  {
   "cell_type": "markdown",
   "id": "89de04fb",
   "metadata": {},
   "source": [
    "* 注意事项：\n",
    "* 1. cnt : 是标签；\n",
    "* 2. t1, t2, hum, wind_speed : 是数值类型字段；\n",
    "* 3. weather_code, is_holiday, is_weekend, season : 是分类类型字段；"
   ]
  },
  {
   "cell_type": "code",
   "execution_count": 28,
   "id": "669b7138",
   "metadata": {},
   "outputs": [],
   "source": [
    "# 特征数据集\n",
    "X = np.array(dataset.drop(columns=['cnt'], axis=1))\n",
    "\n",
    "# 标签数据集\n",
    "y = np.array(dataset['cnt'])"
   ]
  },
  {
   "cell_type": "code",
   "execution_count": 29,
   "id": "2bf25791",
   "metadata": {},
   "outputs": [],
   "source": [
    "# 分类型字段独热编码\n",
    "# features = pd.get_dummies(features)\n",
    "\n",
    "# 对数值类型字段进行归一化\n",
    "X = StandardScaler().fit_transform(X)\n",
    "y = StandardScaler().fit_transform(y.reshape(-1,1))"
   ]
  },
  {
   "cell_type": "code",
   "execution_count": 30,
   "id": "8409a2c4",
   "metadata": {},
   "outputs": [
    {
     "data": {
      "text/plain": [
       "(17414, 8)"
      ]
     },
     "execution_count": 30,
     "metadata": {},
     "output_type": "execute_result"
    }
   ],
   "source": [
    "X.shape"
   ]
  },
  {
   "cell_type": "code",
   "execution_count": 31,
   "id": "60d8d571",
   "metadata": {},
   "outputs": [
    {
     "data": {
      "text/plain": [
       "(17414, 1)"
      ]
     },
     "execution_count": 31,
     "metadata": {},
     "output_type": "execute_result"
    }
   ],
   "source": [
    "y.shape"
   ]
  },
  {
   "cell_type": "markdown",
   "id": "6ac6c9ec",
   "metadata": {},
   "source": [
    "### 第3步：模型搭建、编译、训练\n",
    "\n",
    "- tensorflow集成了keras,常用参数如下：\n",
    "- activation:激活函数，一般用relu;\n",
    "- kernel_initializer,bias_initializer:权重和偏置的初始化方法，不收敛的话换换别的初始化方法（有点玄学）;\n",
    "- input: 输入，可以自己指定也可以让网络自动选；\n",
    "- units: 神经元个数"
   ]
  },
  {
   "cell_type": "code",
   "execution_count": 51,
   "id": "5bfd8e64",
   "metadata": {},
   "outputs": [
    {
     "name": "stdout",
     "output_type": "stream",
     "text": [
      "Epoch 1/10\n",
      "WARNING:tensorflow:Layer dense_27 is casting an input tensor from dtype float64 to the layer's dtype of float32, which is new behavior in TensorFlow 2.  The layer has dtype float32 because it's dtype defaults to floatx.\n",
      "\n",
      "If you intended to run this layer in float32, you can safely ignore this warning. If in doubt, this warning is likely only an issue if you are porting a TensorFlow 1.X model to TensorFlow 2.\n",
      "\n",
      "To change all layers to have dtype float64 by default, call `tf.keras.backend.set_floatx('float64')`. To change just this layer, pass dtype='float64' to the layer constructor. If you are the author of this layer, you can disable autocasting by passing autocast=False to the base Layer constructor.\n",
      "\n",
      "205/205 [==============================] - 3s 15ms/step - loss: 0.7841 - val_loss: 0.9349\n",
      "Epoch 2/10\n",
      "205/205 [==============================] - 3s 15ms/step - loss: 0.7387 - val_loss: 0.9319\n",
      "Epoch 3/10\n",
      "205/205 [==============================] - 3s 14ms/step - loss: 0.7364 - val_loss: 0.9339\n",
      "Epoch 4/10\n",
      "205/205 [==============================] - 3s 13ms/step - loss: 0.7356 - val_loss: 0.9342\n",
      "Epoch 5/10\n",
      "205/205 [==============================] - 3s 14ms/step - loss: 0.7363 - val_loss: 0.9285\n",
      "Epoch 6/10\n",
      "205/205 [==============================] - 3s 13ms/step - loss: 0.7358 - val_loss: 0.9276\n",
      "Epoch 7/10\n",
      "205/205 [==============================] - 3s 13ms/step - loss: 0.7360 - val_loss: 0.9297\n",
      "Epoch 8/10\n",
      "205/205 [==============================] - 3s 13ms/step - loss: 0.7359 - val_loss: 0.9293\n",
      "Epoch 9/10\n",
      "205/205 [==============================] - 3s 14ms/step - loss: 0.7353 - val_loss: 0.9295\n",
      "Epoch 10/10\n",
      "205/205 [==============================] - 3s 13ms/step - loss: 0.7354 - val_loss: 0.9322\n"
     ]
    },
    {
     "data": {
      "text/plain": [
       "<tensorflow.python.keras.callbacks.History at 0x1a1bad993d0>"
      ]
     },
     "execution_count": 51,
     "metadata": {},
     "output_type": "execute_result"
    }
   ],
   "source": [
    "# 模型搭建\n",
    "model = Sequential([\n",
    "    layers.Dense(16,kernel_initializer='random_normal',kernel_regularizer=tf.keras.regularizers.l2(0.03)),\n",
    "    layers.Dense(32,kernel_initializer='random_normal',kernel_regularizer=tf.keras.regularizers.l2(0.03)),\n",
    "    layers.Dense(1,kernel_initializer='random_normal',kernel_regularizer=tf.keras.regularizers.l2(0.03)),\n",
    "])\n",
    "# 模型编译，指定优化器和损失函数等\n",
    "model.compile(optimizer=tf.keras.optimizers.Adam(0.001),loss='mse')\n",
    "# 模型训练\n",
    "model.fit(X,y,validation_split=0.25,epochs=10,batch_size=64)"
   ]
  },
  {
   "cell_type": "markdown",
   "id": "68d396bd",
   "metadata": {},
   "source": [
    "模型参数的计算：第一层输入特征为8，输出为16，那么8*16+16=144，第二层输入16，输出32，那么16*32+32=544，最后一层输入32，输出1，那么32*1+1=33."
   ]
  },
  {
   "cell_type": "code",
   "execution_count": 20,
   "id": "78fe0c5e",
   "metadata": {},
   "outputs": [
    {
     "name": "stdout",
     "output_type": "stream",
     "text": [
      "Model: \"sequential\"\n",
      "_________________________________________________________________\n",
      "Layer (type)                 Output Shape              Param #   \n",
      "=================================================================\n",
      "dense (Dense)                multiple                  144       \n",
      "_________________________________________________________________\n",
      "dense_1 (Dense)              multiple                  544       \n",
      "_________________________________________________________________\n",
      "dense_2 (Dense)              multiple                  33        \n",
      "=================================================================\n",
      "Total params: 721\n",
      "Trainable params: 721\n",
      "Non-trainable params: 0\n",
      "_________________________________________________________________\n"
     ]
    }
   ],
   "source": [
    "model.summary()"
   ]
  },
  {
   "cell_type": "code",
   "execution_count": 49,
   "id": "1d5f0168",
   "metadata": {},
   "outputs": [],
   "source": [
    "# 存模型\n",
    "\n",
    "checkpoint_file = \"best_model.hdf5\"\n",
    "checkpoint_callback = ModelCheckpoint(filepath=checkpoint_file, \n",
    "                                      monitor='loss',\n",
    "                                      mode='min',\n",
    "                                      save_best_only=True,\n",
    "                                      save_weights_only=True)"
   ]
  },
  {
   "cell_type": "markdown",
   "id": "4a63dd5b",
   "metadata": {},
   "source": [
    "### 第6步：模型验证"
   ]
  },
  {
   "cell_type": "code",
   "execution_count": 52,
   "id": "8712d3e3",
   "metadata": {},
   "outputs": [
    {
     "name": "stdout",
     "output_type": "stream",
     "text": [
      "545/545 [==============================] - 2s 3ms/step\n"
     ]
    }
   ],
   "source": [
    "test_preds = model.predict(X, verbose=1)"
   ]
  },
  {
   "cell_type": "code",
   "execution_count": 53,
   "id": "3a8f89af",
   "metadata": {},
   "outputs": [
    {
     "data": {
      "text/plain": [
       "array([-0.8943939, -0.8653515, -0.9397176, -1.0295827, -0.925081 ],\n",
       "      dtype=float32)"
      ]
     },
     "execution_count": 53,
     "metadata": {},
     "output_type": "execute_result"
    }
   ],
   "source": [
    "test_preds = test_preds[:, 0] # 获取列值\n",
    "test_preds[:5]"
   ]
  },
  {
   "cell_type": "code",
   "execution_count": 54,
   "id": "faf377cf",
   "metadata": {},
   "outputs": [],
   "source": [
    "y_true = y[:,0]"
   ]
  },
  {
   "cell_type": "code",
   "execution_count": 55,
   "id": "82d99b13",
   "metadata": {},
   "outputs": [
    {
     "name": "stdout",
     "output_type": "stream",
     "text": [
      "r^2 值为：  0.2597041541540156\n"
     ]
    }
   ],
   "source": [
    "# 计算r2值\n",
    "\n",
    "score = r2_score(y_true, test_preds)\n",
    "\n",
    "print(\"r^2 值为： \", score)"
   ]
  },
  {
   "cell_type": "code",
   "execution_count": 56,
   "id": "4e3b84d3",
   "metadata": {},
   "outputs": [
    {
     "data": {
      "image/png": "[encoded data removed]",
      "text/plain": [
       "<Figure size 1152x576 with 1 Axes>"
      ]
     },
     "metadata": {
      "needs_background": "light"
     },
     "output_type": "display_data"
    }
   ],
   "source": [
    "# 绘制 预测与真值结果\n",
    "\n",
    "plt.figure(figsize=(16,8))\n",
    "plt.plot(y_true[:300], label=\"True value\")\n",
    "plt.plot(test_preds[:300], label=\"Pred value\")\n",
    "plt.legend(loc='best')\n",
    "plt.show()"
   ]
  },
  {
   "cell_type": "code",
   "execution_count": null,
   "id": "f59cdeb3",
   "metadata": {},
   "outputs": [],
   "source": []
  }
 ],
 "metadata": {
  "kernelspec": {
   "display_name": "Python 3 (ipykernel)",
   "language": "python",
   "name": "python3"
  },
  "language_info": {
   "codemirror_mode": {
    "name": "ipython",
    "version": 3
   },
   "file_extension": ".py",
   "mimetype": "text/x-python",
   "name": "python",
   "nbconvert_exporter": "python",
   "pygments_lexer": "ipython3",
   "version": "3.8.13"
  }
 },
 "nbformat": 4,
 "nbformat_minor": 5
}
